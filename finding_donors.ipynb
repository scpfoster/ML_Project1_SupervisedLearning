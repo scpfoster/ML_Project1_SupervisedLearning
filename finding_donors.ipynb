{
 "cells": [
  {
   "cell_type": "markdown",
   "metadata": {},
   "source": [
    "# Data Scientist Nanodegree\n",
    "## Supervised Learning\n",
    "## Project: Finding Donors for *CharityML*"
   ]
  },
  {
   "cell_type": "markdown",
   "metadata": {},
   "source": [
    "Welcome to the first project of the Data Scientist Nanodegree! In this notebook, some template code has already been provided for you, and it will be your job to implement the additional functionality necessary to successfully complete this project. Sections that begin with **'Implementation'** in the header indicate that the following block of code will require additional functionality which you must provide. Instructions will be provided for each section and the specifics of the implementation are marked in the code block with a `'TODO'` statement. Please be sure to read the instructions carefully!\n",
    "\n",
    "In addition to implementing code, there will be questions that you must answer which relate to the project and your implementation. Each section where you will answer a question is preceded by a **'Question X'** header. Carefully read each question and provide thorough answers in the following text boxes that begin with **'Answer:'**. Your project submission will be evaluated based on your answers to each of the questions and the implementation you provide.  \n",
    "\n",
    ">**Note:** Please specify WHICH VERSION OF PYTHON you are using when submitting this notebook. Code and Markdown cells can be executed using the **Shift + Enter** keyboard shortcut. In addition, Markdown cells can be edited by typically double-clicking the cell to enter edit mode."
   ]
  },
  {
   "cell_type": "markdown",
   "metadata": {},
   "source": [
    "## Getting Started\n",
    "\n",
    "In this project, you will employ several supervised algorithms of your choice to accurately model individuals' income using data collected from the 1994 U.S. Census. You will then choose the best candidate algorithm from preliminary results and further optimize this algorithm to best model the data. Your goal with this implementation is to construct a model that accurately predicts whether an individual makes more than $50,000. This sort of task can arise in a non-profit setting, where organizations survive on donations.  Understanding an individual's income can help a non-profit better understand how large of a donation to request, or whether or not they should reach out to begin with.  While it can be difficult to determine an individual's general income bracket directly from public sources, we can (as we will see) infer this value from other publically available features. \n",
    "\n",
    "The dataset for this project originates from the [UCI Machine Learning Repository](https://archive.ics.uci.edu/ml/datasets/Census+Income). The datset was donated by Ron Kohavi and Barry Becker, after being published in the article _\"Scaling Up the Accuracy of Naive-Bayes Classifiers: A Decision-Tree Hybrid\"_. You can find the article by Ron Kohavi [online](https://www.aaai.org/Papers/KDD/1996/KDD96-033.pdf). The data we investigate here consists of small changes to the original dataset, such as removing the `'fnlwgt'` feature and records with missing or ill-formatted entries."
   ]
  },
  {
   "cell_type": "markdown",
   "metadata": {},
   "source": [
    "----\n",
    "## Exploring the Data\n",
    "Run the code cell below to load necessary Python libraries and load the census data. Note that the last column from this dataset, `'income'`, will be our target label (whether an individual makes more than, or at most, $50,000 annually). All other columns are features about each individual in the census database."
   ]
  },
  {
   "cell_type": "code",
   "execution_count": 1,
   "metadata": {},
   "outputs": [
    {
     "data": {
      "text/html": [
       "<div>\n",
       "<style scoped>\n",
       "    .dataframe tbody tr th:only-of-type {\n",
       "        vertical-align: middle;\n",
       "    }\n",
       "\n",
       "    .dataframe tbody tr th {\n",
       "        vertical-align: top;\n",
       "    }\n",
       "\n",
       "    .dataframe thead th {\n",
       "        text-align: right;\n",
       "    }\n",
       "</style>\n",
       "<table border=\"1\" class=\"dataframe\">\n",
       "  <thead>\n",
       "    <tr style=\"text-align: right;\">\n",
       "      <th></th>\n",
       "      <th>age</th>\n",
       "      <th>workclass</th>\n",
       "      <th>education_level</th>\n",
       "      <th>education-num</th>\n",
       "      <th>marital-status</th>\n",
       "      <th>occupation</th>\n",
       "      <th>relationship</th>\n",
       "      <th>race</th>\n",
       "      <th>sex</th>\n",
       "      <th>capital-gain</th>\n",
       "      <th>capital-loss</th>\n",
       "      <th>hours-per-week</th>\n",
       "      <th>native-country</th>\n",
       "      <th>income</th>\n",
       "    </tr>\n",
       "  </thead>\n",
       "  <tbody>\n",
       "    <tr>\n",
       "      <th>0</th>\n",
       "      <td>39</td>\n",
       "      <td>State-gov</td>\n",
       "      <td>Bachelors</td>\n",
       "      <td>13.0</td>\n",
       "      <td>Never-married</td>\n",
       "      <td>Adm-clerical</td>\n",
       "      <td>Not-in-family</td>\n",
       "      <td>White</td>\n",
       "      <td>Male</td>\n",
       "      <td>2174.0</td>\n",
       "      <td>0.0</td>\n",
       "      <td>40.0</td>\n",
       "      <td>United-States</td>\n",
       "      <td>&lt;=50K</td>\n",
       "    </tr>\n",
       "  </tbody>\n",
       "</table>\n",
       "</div>"
      ],
      "text/plain": [
       "   age   workclass education_level  education-num  marital-status  \\\n",
       "0   39   State-gov       Bachelors           13.0   Never-married   \n",
       "\n",
       "      occupation    relationship    race    sex  capital-gain  capital-loss  \\\n",
       "0   Adm-clerical   Not-in-family   White   Male        2174.0           0.0   \n",
       "\n",
       "   hours-per-week  native-country income  \n",
       "0            40.0   United-States  <=50K  "
      ]
     },
     "metadata": {},
     "output_type": "display_data"
    }
   ],
   "source": [
    "# Import libraries necessary for this project\n",
    "import numpy as np\n",
    "import pandas as pd\n",
    "from time import time\n",
    "from IPython.display import display # Allows the use of display() for DataFrames\n",
    "# I added seaborn for some extra visualization when I was exploring the data\n",
    "import seaborn as sns\n",
    "import matplotlib.pyplot as plot\n",
    "\n",
    "# Import supplementary visualization code visuals.py\n",
    "import visuals as vs\n",
    "\n",
    "# Pretty display for notebooks\n",
    "%matplotlib inline\n",
    "\n",
    "# Load the Census dataset\n",
    "data = pd.read_csv(\"census.csv\")\n",
    "\n",
    "# Success - Display the first record\n",
    "display(data.head(n=1))"
   ]
  },
  {
   "cell_type": "markdown",
   "metadata": {},
   "source": [
    "### Implementation: Data Exploration\n",
    "A cursory investigation of the dataset will determine how many individuals fit into either group, and will tell us about the percentage of these individuals making more than \\$50,000. In the code cell below, you will need to compute the following:\n",
    "- The total number of records, `'n_records'`\n",
    "- The number of individuals making more than \\$50,000 annually, `'n_greater_50k'`.\n",
    "- The number of individuals making at most \\$50,000 annually, `'n_at_most_50k'`.\n",
    "- The percentage of individuals making more than \\$50,000 annually, `'greater_percent'`.\n",
    "\n",
    "** HINT: ** You may need to look at the table above to understand how the `'income'` entries are formatted. "
   ]
  },
  {
   "cell_type": "code",
   "execution_count": 2,
   "metadata": {},
   "outputs": [
    {
     "name": "stdout",
     "output_type": "stream",
     "text": [
      "<class 'pandas.core.frame.DataFrame'>\n",
      "RangeIndex: 45222 entries, 0 to 45221\n",
      "Data columns (total 14 columns):\n",
      "age                45222 non-null int64\n",
      "workclass          45222 non-null object\n",
      "education_level    45222 non-null object\n",
      "education-num      45222 non-null float64\n",
      "marital-status     45222 non-null object\n",
      "occupation         45222 non-null object\n",
      "relationship       45222 non-null object\n",
      "race               45222 non-null object\n",
      "sex                45222 non-null object\n",
      "capital-gain       45222 non-null float64\n",
      "capital-loss       45222 non-null float64\n",
      "hours-per-week     45222 non-null float64\n",
      "native-country     45222 non-null object\n",
      "income             45222 non-null object\n",
      "dtypes: float64(4), int64(1), object(9)\n",
      "memory usage: 4.8+ MB\n"
     ]
    }
   ],
   "source": [
    "data.info()"
   ]
  },
  {
   "cell_type": "code",
   "execution_count": 3,
   "metadata": {},
   "outputs": [
    {
     "name": "stdout",
     "output_type": "stream",
     "text": [
      "Total number of records: 45222\n",
      "Individuals making more than $50,000: 11208\n",
      "Individuals making at most $50,000: 34014\n",
      "Percentage of individuals making more than $50,000: 24.78%%\n"
     ]
    }
   ],
   "source": [
    "# TODO: Total number of records\n",
    "n_records = len(data.index)\n",
    "\n",
    "\n",
    "# TODO: Number of records where individual's income is more than $50,000\n",
    "n_greater_50k = len(data[data.income == '>50K'])\n",
    "\n",
    "# TODO: Number of records where individual's income is at most $50,000\n",
    "n_at_most_50k = len(data[data.income == '<=50K'])\n",
    "\n",
    "##feedback from first review, could have done this differently\n",
    "##including this comment for the future me\n",
    "##n_at_most_50k, n_greater_50k = data.income.value_counts()\n",
    "\n",
    "# TODO: Percentage of individuals whose income is more than $50,000\n",
    "greater_percent = n_greater_50k/n_records\n",
    "\n",
    "\n",
    "# Print the results\n",
    "print(\"Total number of records: {}\".format(n_records))\n",
    "print(\"Individuals making more than $50,000: {}\".format(n_greater_50k))\n",
    "print(\"Individuals making at most $50,000: {}\".format(n_at_most_50k))\n",
    "print(\"Percentage of individuals making more than $50,000: {:.2%}%\".format(greater_percent))"
   ]
  },
  {
   "cell_type": "markdown",
   "metadata": {},
   "source": [
    "** Featureset Exploration **\n",
    "\n",
    "* **age**: continuous. \n",
    "* **workclass**: Private, Self-emp-not-inc, Self-emp-inc, Federal-gov, Local-gov, State-gov, Without-pay, Never-worked. \n",
    "* **education**: Bachelors, Some-college, 11th, HS-grad, Prof-school, Assoc-acdm, Assoc-voc, 9th, 7th-8th, 12th, Masters, 1st-4th, 10th, Doctorate, 5th-6th, Preschool. \n",
    "* **education-num**: continuous. \n",
    "* **marital-status**: Married-civ-spouse, Divorced, Never-married, Separated, Widowed, Married-spouse-absent, Married-AF-spouse. \n",
    "* **occupation**: Tech-support, Craft-repair, Other-service, Sales, Exec-managerial, Prof-specialty, Handlers-cleaners, Machine-op-inspct, Adm-clerical, Farming-fishing, Transport-moving, Priv-house-serv, Protective-serv, Armed-Forces. \n",
    "* **relationship**: Wife, Own-child, Husband, Not-in-family, Other-relative, Unmarried. \n",
    "* **race**: Black, White, Asian-Pac-Islander, Amer-Indian-Eskimo, Other. \n",
    "* **sex**: Female, Male. \n",
    "* **capital-gain**: continuous. \n",
    "* **capital-loss**: continuous. \n",
    "* **hours-per-week**: continuous. \n",
    "* **native-country**: United-States, Cambodia, England, Puerto-Rico, Canada, Germany, Outlying-US(Guam-USVI-etc), India, Japan, Greece, South, China, Cuba, Iran, Honduras, Philippines, Italy, Poland, Jamaica, Vietnam, Mexico, Portugal, Ireland, France, Dominican-Republic, Laos, Ecuador, Taiwan, Haiti, Columbia, Hungary, Guatemala, Nicaragua, Scotland, Thailand, Yugoslavia, El-Salvador, Trinadad&Tobago, Peru, Hong, Holand-Netherlands."
   ]
  },
  {
   "cell_type": "markdown",
   "metadata": {},
   "source": [
    "----\n",
    "## Preparing the Data\n",
    "Before data can be used as input for machine learning algorithms, it often must be cleaned, formatted, and restructured — this is typically known as **preprocessing**. Fortunately, for this dataset, there are no invalid or missing entries we must deal with, however, there are some qualities about certain features that must be adjusted. This preprocessing can help tremendously with the outcome and predictive power of nearly all learning algorithms."
   ]
  },
  {
   "cell_type": "markdown",
   "metadata": {},
   "source": [
    "### Transforming Skewed Continuous Features\n",
    "A dataset may sometimes contain at least one feature whose values tend to lie near a single number, but will also have a non-trivial number of vastly larger or smaller values than that single number.  Algorithms can be sensitive to such distributions of values and can underperform if the range is not properly normalized. With the census dataset two features fit this description: '`capital-gain'` and `'capital-loss'`. \n",
    "\n",
    "Run the code cell below to plot a histogram of these two features. Note the range of the values present and how they are distributed."
   ]
  },
  {
   "cell_type": "code",
   "execution_count": 4,
   "metadata": {},
   "outputs": [
    {
     "name": "stderr",
     "output_type": "stream",
     "text": [
      "/Users/colleenpatterson/Documents/Udacity_ML/Project1/finding_donors/visuals.py:48: UserWarning: Matplotlib is currently using module://ipykernel.pylab.backend_inline, which is a non-GUI backend, so cannot show the figure.\n",
      "  fig.show()\n"
     ]
    },
    {
     "data": {
      "image/png": "[encoded data removed]",
      "text/plain": [
       "<Figure size 792x360 with 2 Axes>"
      ]
     },
     "metadata": {
      "needs_background": "light"
     },
     "output_type": "display_data"
    }
   ],
   "source": [
    "# Split the data into features and target label\n",
    "income_raw = data['income']\n",
    "features_raw = data.drop('income', axis = 1)\n",
    "\n",
    "# Visualize skewed continuous features of original data\n",
    "vs.distribution(data)"
   ]
  },
  {
   "cell_type": "markdown",
   "metadata": {},
   "source": [
    "For highly-skewed feature distributions such as `'capital-gain'` and `'capital-loss'`, it is common practice to apply a <a href=\"https://en.wikipedia.org/wiki/Data_transformation_(statistics)\">logarithmic transformation</a> on the data so that the very large and very small values do not negatively affect the performance of a learning algorithm. Using a logarithmic transformation significantly reduces the range of values caused by outliers. Care must be taken when applying this transformation however: The logarithm of `0` is undefined, so we must translate the values by a small amount above `0` to apply the the logarithm successfully.\n",
    "\n",
    "Run the code cell below to perform a transformation on the data and visualize the results. Again, note the range of values and how they are distributed. "
   ]
  },
  {
   "cell_type": "code",
   "execution_count": 5,
   "metadata": {},
   "outputs": [
    {
     "data": {
      "image/png": "[encoded data removed]",
      "text/plain": [
       "<Figure size 792x360 with 2 Axes>"
      ]
     },
     "metadata": {
      "needs_background": "light"
     },
     "output_type": "display_data"
    }
   ],
   "source": [
    "# Log-transform the skewed features\n",
    "skewed = ['capital-gain', 'capital-loss']\n",
    "features_log_transformed = pd.DataFrame(data = features_raw)\n",
    "features_log_transformed[skewed] = features_raw[skewed].apply(lambda x: np.log(x + 1))\n",
    "\n",
    "# Visualize the new log distributions\n",
    "vs.distribution(features_log_transformed, transformed = True)"
   ]
  },
  {
   "cell_type": "markdown",
   "metadata": {},
   "source": [
    "### Normalizing Numerical Features\n",
    "In addition to performing transformations on features that are highly skewed, it is often good practice to perform some type of scaling on numerical features. Applying a scaling to the data does not change the shape of each feature's distribution (such as `'capital-gain'` or `'capital-loss'` above); however, normalization ensures that each feature is treated equally when applying supervised learners. Note that once scaling is applied, observing the data in its raw form will no longer have the same original meaning, as exampled below.\n",
    "\n",
    "Run the code cell below to normalize each numerical feature. We will use [`sklearn.preprocessing.MinMaxScaler`](http://scikit-learn.org/stable/modules/generated/sklearn.preprocessing.MinMaxScaler.html) for this."
   ]
  },
  {
   "cell_type": "code",
   "execution_count": 6,
   "metadata": {},
   "outputs": [
    {
     "data": {
      "text/html": [
       "<div>\n",
       "<style scoped>\n",
       "    .dataframe tbody tr th:only-of-type {\n",
       "        vertical-align: middle;\n",
       "    }\n",
       "\n",
       "    .dataframe tbody tr th {\n",
       "        vertical-align: top;\n",
       "    }\n",
       "\n",
       "    .dataframe thead th {\n",
       "        text-align: right;\n",
       "    }\n",
       "</style>\n",
       "<table border=\"1\" class=\"dataframe\">\n",
       "  <thead>\n",
       "    <tr style=\"text-align: right;\">\n",
       "      <th></th>\n",
       "      <th>age</th>\n",
       "      <th>workclass</th>\n",
       "      <th>education_level</th>\n",
       "      <th>education-num</th>\n",
       "      <th>marital-status</th>\n",
       "      <th>occupation</th>\n",
       "      <th>relationship</th>\n",
       "      <th>race</th>\n",
       "      <th>sex</th>\n",
       "      <th>capital-gain</th>\n",
       "      <th>capital-loss</th>\n",
       "      <th>hours-per-week</th>\n",
       "      <th>native-country</th>\n",
       "    </tr>\n",
       "  </thead>\n",
       "  <tbody>\n",
       "    <tr>\n",
       "      <th>0</th>\n",
       "      <td>0.301370</td>\n",
       "      <td>State-gov</td>\n",
       "      <td>Bachelors</td>\n",
       "      <td>0.800000</td>\n",
       "      <td>Never-married</td>\n",
       "      <td>Adm-clerical</td>\n",
       "      <td>Not-in-family</td>\n",
       "      <td>White</td>\n",
       "      <td>Male</td>\n",
       "      <td>0.667492</td>\n",
       "      <td>0.0</td>\n",
       "      <td>0.397959</td>\n",
       "      <td>United-States</td>\n",
       "    </tr>\n",
       "    <tr>\n",
       "      <th>1</th>\n",
       "      <td>0.452055</td>\n",
       "      <td>Self-emp-not-inc</td>\n",
       "      <td>Bachelors</td>\n",
       "      <td>0.800000</td>\n",
       "      <td>Married-civ-spouse</td>\n",
       "      <td>Exec-managerial</td>\n",
       "      <td>Husband</td>\n",
       "      <td>White</td>\n",
       "      <td>Male</td>\n",
       "      <td>0.000000</td>\n",
       "      <td>0.0</td>\n",
       "      <td>0.122449</td>\n",
       "      <td>United-States</td>\n",
       "    </tr>\n",
       "    <tr>\n",
       "      <th>2</th>\n",
       "      <td>0.287671</td>\n",
       "      <td>Private</td>\n",
       "      <td>HS-grad</td>\n",
       "      <td>0.533333</td>\n",
       "      <td>Divorced</td>\n",
       "      <td>Handlers-cleaners</td>\n",
       "      <td>Not-in-family</td>\n",
       "      <td>White</td>\n",
       "      <td>Male</td>\n",
       "      <td>0.000000</td>\n",
       "      <td>0.0</td>\n",
       "      <td>0.397959</td>\n",
       "      <td>United-States</td>\n",
       "    </tr>\n",
       "    <tr>\n",
       "      <th>3</th>\n",
       "      <td>0.493151</td>\n",
       "      <td>Private</td>\n",
       "      <td>11th</td>\n",
       "      <td>0.400000</td>\n",
       "      <td>Married-civ-spouse</td>\n",
       "      <td>Handlers-cleaners</td>\n",
       "      <td>Husband</td>\n",
       "      <td>Black</td>\n",
       "      <td>Male</td>\n",
       "      <td>0.000000</td>\n",
       "      <td>0.0</td>\n",
       "      <td>0.397959</td>\n",
       "      <td>United-States</td>\n",
       "    </tr>\n",
       "    <tr>\n",
       "      <th>4</th>\n",
       "      <td>0.150685</td>\n",
       "      <td>Private</td>\n",
       "      <td>Bachelors</td>\n",
       "      <td>0.800000</td>\n",
       "      <td>Married-civ-spouse</td>\n",
       "      <td>Prof-specialty</td>\n",
       "      <td>Wife</td>\n",
       "      <td>Black</td>\n",
       "      <td>Female</td>\n",
       "      <td>0.000000</td>\n",
       "      <td>0.0</td>\n",
       "      <td>0.397959</td>\n",
       "      <td>Cuba</td>\n",
       "    </tr>\n",
       "  </tbody>\n",
       "</table>\n",
       "</div>"
      ],
      "text/plain": [
       "        age          workclass education_level  education-num  \\\n",
       "0  0.301370          State-gov       Bachelors       0.800000   \n",
       "1  0.452055   Self-emp-not-inc       Bachelors       0.800000   \n",
       "2  0.287671            Private         HS-grad       0.533333   \n",
       "3  0.493151            Private            11th       0.400000   \n",
       "4  0.150685            Private       Bachelors       0.800000   \n",
       "\n",
       "        marital-status          occupation    relationship    race      sex  \\\n",
       "0        Never-married        Adm-clerical   Not-in-family   White     Male   \n",
       "1   Married-civ-spouse     Exec-managerial         Husband   White     Male   \n",
       "2             Divorced   Handlers-cleaners   Not-in-family   White     Male   \n",
       "3   Married-civ-spouse   Handlers-cleaners         Husband   Black     Male   \n",
       "4   Married-civ-spouse      Prof-specialty            Wife   Black   Female   \n",
       "\n",
       "   capital-gain  capital-loss  hours-per-week  native-country  \n",
       "0      0.667492           0.0        0.397959   United-States  \n",
       "1      0.000000           0.0        0.122449   United-States  \n",
       "2      0.000000           0.0        0.397959   United-States  \n",
       "3      0.000000           0.0        0.397959   United-States  \n",
       "4      0.000000           0.0        0.397959            Cuba  "
      ]
     },
     "metadata": {},
     "output_type": "display_data"
    }
   ],
   "source": [
    "# Import sklearn.preprocessing.StandardScaler\n",
    "from sklearn.preprocessing import MinMaxScaler\n",
    "\n",
    "# Initialize a scaler, then apply it to the features\n",
    "scaler = MinMaxScaler() # default=(0, 1)\n",
    "numerical = ['age', 'education-num', 'capital-gain', 'capital-loss', 'hours-per-week']\n",
    "\n",
    "features_log_minmax_transform = pd.DataFrame(data = features_log_transformed)\n",
    "features_log_minmax_transform[numerical] = scaler.fit_transform(features_log_transformed[numerical])\n",
    "\n",
    "# Show an example of a record with scaling applied\n",
    "display(features_log_minmax_transform.head(n = 5))"
   ]
  },
  {
   "cell_type": "markdown",
   "metadata": {},
   "source": [
    "### Implementation: Data Preprocessing\n",
    "\n",
    "From the table in **Exploring the Data** above, we can see there are several features for each record that are non-numeric. Typically, learning algorithms expect input to be numeric, which requires that non-numeric features (called *categorical variables*) be converted. One popular way to convert categorical variables is by using the **one-hot encoding** scheme. One-hot encoding creates a _\"dummy\"_ variable for each possible category of each non-numeric feature. For example, assume `someFeature` has three possible entries: `A`, `B`, or `C`. We then encode this feature into `someFeature_A`, `someFeature_B` and `someFeature_C`.\n",
    "\n",
    "|   | someFeature |                    | someFeature_A | someFeature_B | someFeature_C |\n",
    "| :-: | :-: |                            | :-: | :-: | :-: |\n",
    "| 0 |  B  |  | 0 | 1 | 0 |\n",
    "| 1 |  C  | ----> one-hot encode ----> | 0 | 0 | 1 |\n",
    "| 2 |  A  |  | 1 | 0 | 0 |\n",
    "\n",
    "Additionally, as with the non-numeric features, we need to convert the non-numeric target label, `'income'` to numerical values for the learning algorithm to work. Since there are only two possible categories for this label (\"<=50K\" and \">50K\"), we can avoid using one-hot encoding and simply encode these two categories as `0` and `1`, respectively. In code cell below, you will need to implement the following:\n",
    " - Use [`pandas.get_dummies()`](http://pandas.pydata.org/pandas-docs/stable/generated/pandas.get_dummies.html?highlight=get_dummies#pandas.get_dummies) to perform one-hot encoding on the `'features_log_minmax_transform'` data.\n",
    " - Convert the target label `'income_raw'` to numerical entries.\n",
    "   - Set records with \"<=50K\" to `0` and records with \">50K\" to `1`."
   ]
  },
  {
   "cell_type": "code",
   "execution_count": 7,
   "metadata": {
    "scrolled": true
   },
   "outputs": [
    {
     "name": "stdout",
     "output_type": "stream",
     "text": [
      "103 total features after one-hot encoding.\n"
     ]
    }
   ],
   "source": [
    "# TODO: One-hot encode the 'features_log_minmax_transform' data using pandas.get_dummies()\n",
    "features_final = pd.get_dummies(features_log_minmax_transform)\n",
    "\n",
    "# TODO: Encode the 'income_raw' data to numerical values\n",
    "income = income_raw.astype('category').cat.codes\n",
    "\n",
    "# Print the number of features after one-hot encoding\n",
    "encoded = list(features_final.columns)\n",
    "print(\"{} total features after one-hot encoding.\".format(len(encoded)))\n",
    "\n",
    "# Uncomment the following line to see the encoded feature names\n",
    "#print(encoded)"
   ]
  },
  {
   "cell_type": "markdown",
   "metadata": {},
   "source": [
    "### Shuffle and Split Data\n",
    "Now all _categorical variables_ have been converted into numerical features, and all numerical features have been normalized. As always, we will now split the data (both features and their labels) into training and test sets. 80% of the data will be used for training and 20% for testing.\n",
    "\n",
    "Run the code cell below to perform this split."
   ]
  },
  {
   "cell_type": "code",
   "execution_count": 8,
   "metadata": {},
   "outputs": [
    {
     "name": "stdout",
     "output_type": "stream",
     "text": [
      "Training set has 36177 samples.\n",
      "Testing set has 9045 samples.\n"
     ]
    }
   ],
   "source": [
    "# Import train_test_split\n",
    "# lab provided import does not work, I suspect the sklearn packagae has been updated\n",
    "#from sklearn.cross_validation import train_test_split\n",
    "from sklearn.model_selection import train_test_split\n",
    "\n",
    "# Split the 'features' and 'income' data into training and testing sets\n",
    "X_train, X_test, y_train, y_test = train_test_split(features_final, \n",
    "                                                    income, \n",
    "                                                    test_size = 0.2, \n",
    "                                                    random_state = 0)\n",
    "\n",
    "# Show the results of the split\n",
    "print(\"Training set has {} samples.\".format(X_train.shape[0]))\n",
    "print(\"Testing set has {} samples.\".format(X_test.shape[0]))"
   ]
  },
  {
   "cell_type": "markdown",
   "metadata": {},
   "source": [
    "----\n",
    "## Evaluating Model Performance\n",
    "In this section, we will investigate four different algorithms, and determine which is best at modeling the data. Three of these algorithms will be supervised learners of your choice, and the fourth algorithm is known as a *naive predictor*."
   ]
  },
  {
   "cell_type": "markdown",
   "metadata": {},
   "source": [
    "### Metrics and the Naive Predictor\n",
    "*CharityML*, equipped with their research, knows individuals that make more than \\$50,000 are most likely to donate to their charity. Because of this, *CharityML* is particularly interested in predicting who makes more than \\$50,000 accurately. It would seem that using **accuracy** as a metric for evaluating a particular model's performace would be appropriate. Additionally, identifying someone that *does not* make more than \\$50,000 as someone who does would be detrimental to *CharityML*, since they are looking to find individuals willing to donate. Therefore, a model's ability to precisely predict those that make more than \\$50,000 is *more important* than the model's ability to **recall** those individuals. We can use **F-beta score** as a metric that considers both precision and recall:\n",
    "\n",
    "$$ F_{\\beta} = (1 + \\beta^2) \\cdot \\frac{precision \\cdot recall}{\\left( \\beta^2 \\cdot precision \\right) + recall} $$\n",
    "\n",
    "In particular, when $\\beta = 0.5$, more emphasis is placed on precision. This is called the **F$_{0.5}$ score** (or F-score for simplicity).\n",
    "\n",
    "Looking at the distribution of classes (those who make at most \\$50,000, and those who make more), it's clear most individuals do not make more than \\$50,000. This can greatly affect **accuracy**, since we could simply say *\"this person does not make more than \\$50,000\"* and generally be right, without ever looking at the data! Making such a statement would be called **naive**, since we have not considered any information to substantiate the claim. It is always important to consider the *naive prediction* for your data, to help establish a benchmark for whether a model is performing well. That been said, using that prediction would be pointless: If we predicted all people made less than \\$50,000, *CharityML* would identify no one as donors. \n",
    "\n",
    "\n",
    "#### Note: Recap of accuracy, precision, recall\n",
    "\n",
    "** Accuracy ** measures how often the classifier makes the correct prediction. It’s the ratio of the number of correct predictions to the total number of predictions (the number of test data points).\n",
    "\n",
    "** Precision ** tells us what proportion of messages we classified as spam, actually were spam.\n",
    "It is a ratio of true positives(words classified as spam, and which are actually spam) to all positives(all words classified as spam, irrespective of whether that was the correct classificatio), in other words it is the ratio of\n",
    "\n",
    "`[True Positives/(True Positives + False Positives)]`\n",
    "\n",
    "** Recall(sensitivity)** tells us what proportion of messages that actually were spam were classified by us as spam.\n",
    "It is a ratio of true positives(words classified as spam, and which are actually spam) to all the words that were actually spam, in other words it is the ratio of\n",
    "\n",
    "`[True Positives/(True Positives + False Negatives)]`\n",
    "\n",
    "For classification problems that are skewed in their classification distributions like in our case, for example if we had a 100 text messages and only 2 were spam and the rest 98 weren't, accuracy by itself is not a very good metric. We could classify 90 messages as not spam(including the 2 that were spam but we classify them as not spam, hence they would be false negatives) and 10 as spam(all 10 false positives) and still get a reasonably good accuracy score. For such cases, precision and recall come in very handy. These two metrics can be combined to get the F1 score, which is weighted average(harmonic mean) of the precision and recall scores. This score can range from 0 to 1, with 1 being the best possible F1 score(we take the harmonic mean as we are dealing with ratios)."
   ]
  },
  {
   "cell_type": "markdown",
   "metadata": {},
   "source": [
    "### Question 1 - Naive Predictor Performace\n",
    "* If we chose a model that always predicted an individual made more than $50,000, what would  that model's accuracy and F-score be on this dataset? You must use the code cell below and assign your results to `'accuracy'` and `'fscore'` to be used later.\n",
    "\n",
    "** Please note ** that the the purpose of generating a naive predictor is simply to show what a base model without any intelligence would look like. In the real world, ideally your base model would be either the results of a previous model or could be based on a research paper upon which you are looking to improve. When there is no benchmark model set, getting a result better than random choice is a place you could start from.\n",
    "\n",
    "** HINT: ** \n",
    "\n",
    "* When we have a model that always predicts '1' (i.e. the individual makes more than 50k) then our model will have no True Negatives(TN) or False Negatives(FN) as we are not making any negative('0' value) predictions. Therefore our Accuracy in this case becomes the same as our Precision(True Positives/(True Positives + False Positives)) as every prediction that we have made with value '1' that should have '0' becomes a False Positive; therefore our denominator in this case is the total number of records we have in total. \n",
    "* Our Recall score(True Positives/(True Positives + False Negatives)) in this setting becomes 1 as we have no False Negatives."
   ]
  },
  {
   "cell_type": "code",
   "execution_count": 9,
   "metadata": {},
   "outputs": [
    {
     "name": "stdout",
     "output_type": "stream",
     "text": [
      "Naive Predictor: [Accuracy score: 0.2478, F-score: 0.2917]\n"
     ]
    }
   ],
   "source": [
    "'''\n",
    "TP = np.sum(income) # Counting the ones as this is the naive case. Note that 'income' is the 'income_raw' data \n",
    "encoded to numerical values done in the data preprocessing step.\n",
    "FP = income.count() - TP # Specific to the naive case\n",
    "\n",
    "TN = 0 # No predicted negatives in the naive case\n",
    "FN = 0 # No predicted negatives in the naive case\n",
    "'''\n",
    "\n",
    "TP = np.sum(income)\n",
    "FP = income.count() - TP\n",
    "TN = 0\n",
    "FN = 0\n",
    "\n",
    "# TODO: Calculate accuracy, precision and recall\n",
    "accuracy = (TP + TN)/(TP + FP + TN + FN)\n",
    "recall = TP/(TP + FN)\n",
    "precision = TP/(TP + FP)\n",
    "\n",
    "# TODO: Calculate F-score using the formula above for beta = 0.5 and correct values for precision and recall.\n",
    "fscore = (1 + 0.5**2)*precision*recall/((0.5**2*precision)+recall)\n",
    "\n",
    "# Print the results \n",
    "print(\"Naive Predictor: [Accuracy score: {:.4f}, F-score: {:.4f}]\".format(accuracy, fscore))"
   ]
  },
  {
   "cell_type": "markdown",
   "metadata": {},
   "source": [
    "###  Supervised Learning Models\n",
    "**The following are some of the supervised learning models that are currently available in** [`scikit-learn`](http://scikit-learn.org/stable/supervised_learning.html) **that you may choose from:**\n",
    "- Gaussian Naive Bayes (GaussianNB)\n",
    "- Decision Trees\n",
    "- Ensemble Methods (Bagging, AdaBoost, Random Forest, Gradient Boosting)\n",
    "- K-Nearest Neighbors (KNeighbors)\n",
    "- Stochastic Gradient Descent Classifier (SGDC)\n",
    "- Support Vector Machines (SVM)\n",
    "- Logistic Regression"
   ]
  },
  {
   "cell_type": "markdown",
   "metadata": {},
   "source": [
    "### Question 2 - Model Application\n",
    "List three of the supervised learning models above that are appropriate for this problem that you will test on the census data. For each model chosen\n",
    "\n",
    "- Describe one real-world application in industry where the model can be applied. \n",
    "- What are the strengths of the model; when does it perform well?\n",
    "- What are the weaknesses of the model; when does it perform poorly?\n",
    "- What makes this model a good candidate for the problem, given what you know about the data?\n",
    "\n",
    "** HINT: **\n",
    "\n",
    "Structure your answer in the same format as above^, with 4 parts for each of the three models you pick. Please include references with your answer."
   ]
  },
  {
   "cell_type": "markdown",
   "metadata": {},
   "source": [
    "**answer:**\n",
    "\n",
    "After reviewing each of the models being suggested and considering the data set, I have chosen:\n",
    "1. Gaussian Naive Bayes\n",
    "2. Ensemble Method - Random Forest\n",
    "3. Stochastic Gradient Descent Classifier (SGDC)\n",
    "\n",
    "To be honest, I had difficulting finding information on which model to use for this specific applicaiton, even after spending a fairbit of time researching on the internet.  I opted to try three models used different approaches to solving the problem to see which would work better for this project.  At the end of this notebook, I have my notes that I took on all 7 of the models in the list to choose from.\n",
    "\n",
    "#### Gaussian Naive Bayes (GaussianNB)\n",
    "**References**\n",
    "https://acadgild.com/blog/naive-bayesian-model\n",
    "https://scikit-learn.org/stable/modules/naive_bayes.html\n",
    "\n",
    "**Describe one real-world application in industry where the model can be applied.** \n",
    "GaussianNB is often used in recommendation systems to predict if a user would like a given resource (app, movie etc).\n",
    "\n",
    "**What are the strengths of the model; when does it perform well?**\n",
    "* easy to apply and predicts the class of test data fast\n",
    "* performs well in multi-class prediction\n",
    "* when assumption of independence between inputs holds, performs better than logistic regression since need less training data\n",
    "* performs well in the case of categorical input variables compared to a numerical variable\n",
    "\n",
    "**What are the weaknesses of the model; when does it perform poorly?**\n",
    "* assumption of independent inputs is almost never true\n",
    "* known as a bad estimator\n",
    "* for categorial inputs, if not all categories are in the training set, will assign a zero probability and be unable to make a prediction.\n",
    "\n",
    "**What makes this model a good candidate for the problem, given what you know about the data?**\n",
    "We have a relatively large number of categorical input variables, so I think it may perform well.\n",
    "\n",
    "#### Ensemble Method\n",
    "**References**\n",
    "* https://www.quora.com/What-is-ensemble-learning-When-can-I-use-ensemble-learning\n",
    "* https://en.wikipedia.org/wiki/Ensemble_learning\n",
    "* https://scikit-learn.org/stable/modules/ensemble.html\n",
    "\n",
    "**Describe one real-world application in industry where the model can be applied.** \n",
    "Ensemble Methods are used in applicaitons for computer security and feature recognition.\n",
    "\n",
    "**What are the strengths of the model; when does it perform well?**\n",
    "It has improved predictive performance by combining multiple techniques.\n",
    "\n",
    "**What are the weaknesses of the model; when does it perform poorly?**\n",
    "It may be slower to train and test since it uses multiple techniques.\n",
    "\n",
    "**What makes this model a good candidate for the problem, given what you know about the data?**\n",
    "The combination of multiple techniques will result in a better solution for the variety of inputs. \n",
    "\n",
    "\n",
    "#### Stochastic Gradient Descent Classifier ( SGDC)\n",
    "**References**\n",
    "* https://scikit-learn.org/stable/modules/sgd.html\n",
    "\n",
    "**Describe one real-world application in industry where the model can be applied.** \n",
    "* text classification\n",
    "* natural language processing\n",
    "\n",
    "**What are the strengths of the model; when does it perform well?**\n",
    "* efficiency\n",
    "* ease of implementation\n",
    "\n",
    "**What are the weaknesses of the model; when does it perform poorly?**\n",
    "* requires a number of hyperparameters \n",
    "* sensitive to feature scaling\n",
    "\n",
    "**What makes this model a good candidate for the problem, given what you know about the data?** \n",
    "The algorithm uses regularization and uses an error boundary approach.  I think this will help reduce the number of false negatives.\n"
   ]
  },
  {
   "cell_type": "markdown",
   "metadata": {},
   "source": [
    "### Implementation - Creating a Training and Predicting Pipeline\n",
    "To properly evaluate the performance of each model you've chosen, it's important that you create a training and predicting pipeline that allows you to quickly and effectively train models using various sizes of training data and perform predictions on the testing data. Your implementation here will be used in the following section.\n",
    "In the code block below, you will need to implement the following:\n",
    " - Import `fbeta_score` and `accuracy_score` from [`sklearn.metrics`](http://scikit-learn.org/stable/modules/classes.html#sklearn-metrics-metrics).\n",
    " - Fit the learner to the sampled training data and record the training time.\n",
    " - Perform predictions on the test data `X_test`, and also on the first 300 training points `X_train[:300]`.\n",
    "   - Record the total prediction time.\n",
    " - Calculate the accuracy score for both the training subset and testing set.\n",
    " - Calculate the F-score for both the training subset and testing set.\n",
    "   - Make sure that you set the `beta` parameter!"
   ]
  },
  {
   "cell_type": "code",
   "execution_count": 10,
   "metadata": {},
   "outputs": [],
   "source": [
    "# TODO: Import two metrics from sklearn - fbeta_score and accuracy_score\n",
    "from sklearn.metrics import fbeta_score, accuracy_score\n",
    "\n",
    "def train_predict(learner, sample_size, X_train, y_train, X_test, y_test): \n",
    "    '''\n",
    "    inputs:\n",
    "       - learner: the learning algorithm to be trained and predicted on\n",
    "       - sample_size: the size of samples (number) to be drawn from training set\n",
    "       - X_train: features training set\n",
    "       - y_train: income training set\n",
    "       - X_test: features testing set\n",
    "       - y_test: income testing set\n",
    "    '''\n",
    "    \n",
    "    results = {}\n",
    "    \n",
    "    # TODO: Fit the learner to the training data using slicing with 'sample_size' using .fit(training_features[:], training_labels[:])\n",
    "    start = time() # Get start time\n",
    "    learner = learner.fit(X_train[:sample_size], y_train[:sample_size])\n",
    "    end = time() # Get end time\n",
    "    \n",
    "    # TODO: Calculate the training time\n",
    "    results['train_time'] = end - start\n",
    "        \n",
    "    # TODO: Get the predictions on the test set(X_test),\n",
    "    #       then get predictions on the first 300 training samples(X_train) using .predict()\n",
    "    start = time() # Get start time\n",
    "    predictions_test = learner.predict(X_test)\n",
    "    predictions_train = learner.predict(X_train[:300])\n",
    "    end = time() # Get end time\n",
    "    \n",
    "    # TODO: Calculate the total prediction time\n",
    "    results['pred_time'] = end - start\n",
    "    \n",
    "    # TODO: Compute accuracy on the first 300 training samples which is y_train[:300]\n",
    "    results['acc_train'] = accuracy_score(y_train[:300], predictions_train) \n",
    "    \n",
    "    # TODO: Compute accuracy on test set using accuracy_score()\n",
    "    results['acc_test'] = accuracy_score(y_test, predictions_test)\n",
    "    \n",
    "    # TODO: Compute F-score on the the first 300 training samples using fbeta_score()\n",
    "    results['f_train'] = fbeta_score(y_train[:300], predictions_train, beta=0.5)\n",
    "    \n",
    "    # TODO: Compute F-score on the test set which is y_test\n",
    "    results['f_test'] = fbeta_score(y_test, predictions_test, beta=0.5)\n",
    "       \n",
    "    # Success\n",
    "    print(\"{} trained on {} samples.\".format(learner.__class__.__name__, sample_size))\n",
    "        \n",
    "    # Return the results\n",
    "    return results"
   ]
  },
  {
   "cell_type": "markdown",
   "metadata": {},
   "source": [
    "### Implementation: Initial Model Evaluation\n",
    "In the code cell, you will need to implement the following:\n",
    "- Import the three supervised learning models you've discussed in the previous section.\n",
    "- Initialize the three models and store them in `'clf_A'`, `'clf_B'`, and `'clf_C'`.\n",
    "  - Use a `'random_state'` for each model you use, if provided.\n",
    "  - **Note:** Use the default settings for each model — you will tune one specific model in a later section.\n",
    "- Calculate the number of records equal to 1%, 10%, and 100% of the training data.\n",
    "  - Store those values in `'samples_1'`, `'samples_10'`, and `'samples_100'` respectively.\n",
    "\n",
    "**Note:** Depending on which algorithms you chose, the following implementation may take some time to run!"
   ]
  },
  {
   "cell_type": "code",
   "execution_count": 11,
   "metadata": {},
   "outputs": [
    {
     "name": "stdout",
     "output_type": "stream",
     "text": [
      "GaussianNB trained on 361 samples.\n",
      "GaussianNB trained on 3617 samples.\n",
      "GaussianNB trained on 36177 samples.\n",
      "RandomForestClassifier trained on 361 samples.\n",
      "RandomForestClassifier trained on 3617 samples.\n",
      "RandomForestClassifier trained on 36177 samples.\n",
      "SGDClassifier trained on 361 samples.\n",
      "SGDClassifier trained on 3617 samples.\n",
      "SGDClassifier trained on 36177 samples.\n"
     ]
    },
    {
     "data": {
      "image/png": "[encoded data removed]",
      "text/plain": [
       "<Figure size 792x504 with 6 Axes>"
      ]
     },
     "metadata": {
      "needs_background": "light"
     },
     "output_type": "display_data"
    }
   ],
   "source": [
    "# TODO: Import the three supervised learning models from sklearn\n",
    "\n",
    "from sklearn.naive_bayes import GaussianNB\n",
    "from sklearn.ensemble import RandomForestClassifier\n",
    "from sklearn.linear_model import SGDClassifier\n",
    "\n",
    "# TODO: Initialize the three models\n",
    "\n",
    "clf_A = GaussianNB()\n",
    "clf_B = RandomForestClassifier(random_state = 48)\n",
    "clf_C = SGDClassifier(random_state = 1)\n",
    "\n",
    "\n",
    "# TODO: Calculate the number of samples for 1%, 10%, and 100% of the training data\n",
    "# HINT: samples_100 is the entire training set i.e. len(y_train)\n",
    "# HINT: samples_10 is 10% of samples_100 (ensure to set the count of the values to be `int` and not `float`)\n",
    "# HINT: samples_1 is 1% of samples_100 (ensure to set the count of the values to be `int` and not `float`)\n",
    "samples_100 = len(y_train.index)\n",
    "samples_10 = int(0.1*samples_100)\n",
    "samples_1 = int(0.01*samples_100)\n",
    "\n",
    "# Collect results on the learners\n",
    "results = {}\n",
    "model_list = [clf_A, clf_B, clf_C]\n",
    "#model_list = [clf_C]\n",
    "for clf in model_list:\n",
    "    clf_name = clf.__class__.__name__\n",
    "    results[clf_name] = {}\n",
    "    for i, samples in enumerate([samples_1, samples_10, samples_100]):\n",
    "        results[clf_name][i] = \\\n",
    "        train_predict(clf, samples, X_train, y_train, X_test, y_test)\n",
    "\n",
    "# Run metrics visualization for the three supervised learning models chosen\n",
    "vs.evaluate(results, accuracy, fscore)"
   ]
  },
  {
   "cell_type": "markdown",
   "metadata": {},
   "source": [
    "----\n",
    "## Improving Results\n",
    "In this final section, you will choose from the three supervised learning models the *best* model to use on the student data. You will then perform a grid search optimization for the model over the entire training set (`X_train` and `y_train`) by tuning at least one parameter to improve upon the untuned model's F-score. "
   ]
  },
  {
   "cell_type": "markdown",
   "metadata": {},
   "source": [
    "### Question 3 - Choosing the Best Model\n",
    "\n",
    "* Based on the evaluation you performed earlier, in one to two paragraphs, explain to *CharityML* which of the three models you believe to be most appropriate for the task of identifying individuals that make more than \\$50,000. \n",
    "\n",
    "** HINT: ** \n",
    "Look at the graph at the bottom left from the cell above(the visualization created by `vs.evaluate(results, accuracy, fscore)`) and check the F score for the testing set when 100% of the training set is used. Which model has the highest score? Your answer should include discussion of the:\n",
    "* metrics - F score on the testing when 100% of the training data is used, \n",
    "* prediction/training time\n",
    "* the algorithm's suitability for the data."
   ]
  },
  {
   "cell_type": "markdown",
   "metadata": {},
   "source": [
    "#### Show me the numbers to help answer Question 3\n",
    "\n",
    "printing out the times, accuracy and F-score associated with using 100% of the data to train the model"
   ]
  },
  {
   "cell_type": "code",
   "execution_count": 12,
   "metadata": {},
   "outputs": [
    {
     "name": "stdout",
     "output_type": "stream",
     "text": [
      "{'train_time': 0.1163637638092041, 'pred_time': 0.023593902587890625, 'acc_train': 0.5933333333333334, 'acc_test': 0.5976782752902156, 'f_train': 0.4125, 'f_test': 0.4208989595756056}\n"
     ]
    }
   ],
   "source": [
    "print(results['GaussianNB'][2])"
   ]
  },
  {
   "cell_type": "code",
   "execution_count": 13,
   "metadata": {},
   "outputs": [
    {
     "name": "stdout",
     "output_type": "stream",
     "text": [
      "{'train_time': 6.818845748901367, 'pred_time': 0.3543069362640381, 'acc_train': 0.9733333333333334, 'acc_test': 0.8416804864566059, 'f_train': 0.9593023255813954, 'f_test': 0.6798180559675665}\n"
     ]
    }
   ],
   "source": [
    "print(results['RandomForestClassifier'][2])"
   ]
  },
  {
   "cell_type": "code",
   "execution_count": 14,
   "metadata": {},
   "outputs": [
    {
     "name": "stdout",
     "output_type": "stream",
     "text": [
      "{'train_time': 0.4187631607055664, 'pred_time': 0.006734132766723633, 'acc_train': 0.8533333333333334, 'acc_test': 0.840685461580984, 'f_train': 0.7258064516129031, 'f_test': 0.6879214480066248}\n"
     ]
    }
   ],
   "source": [
    "print(results['SGDClassifier'][2])"
   ]
  },
  {
   "cell_type": "markdown",
   "metadata": {},
   "source": [
    "**Answer: **\n",
    "\n",
    "The goal of the algorithm is to use the census data for a given area to identify potential donors, specifically those that have an income of > $50K.  Three models were evaluated:\n",
    "- GaussianNB Classifier\n",
    "- Random Forest Classifier (an ensemble classifier)\n",
    "- Stochastic Gradient Descent(SGD) Classifier \n",
    "\n",
    "The models were evaluated against three criteria:\n",
    "- time to train and predict\n",
    "- accuracy\n",
    "- F-beta score using beta = 0.5\n",
    "\n",
    "A beta value of 0.5 was chosen to weight the model selection to one that would minimize the chance of a false negative.  A false negative, in this case, would identify a person with an actual income of >50k has having an income of <=50k.  Every false negative represents a lost opportunity to connect with a potential donor who is more likely to make a donation.\n",
    "\n",
    "The following table summarizes the results from the 3 models.  It should be noted that none of the models were fine-tuned to provide the best results possible.\n",
    "\n",
    "|Model|Time to Make Predition|Accuracy Score| F-beta Score|\n",
    "|---|---|---|---|\n",
    "|GaussianNB|0.0236|59.77%|42.09%|\n",
    "|Random Forest|0.3543|84.17%|67.98%|\n",
    "|SGD Classifier|0.0067|84.07%|68.79%|\n",
    "\n",
    "For the application we are considering and the goal of minimizing false negatives, the F-beta Score is the best metric to use to make a decision on a classifier model to us. The time required to process the data to generate predictions is also an important consideration, although not as important as the F-beta Score.\n",
    "\n",
    "Based on the 3 models evaluated, the SDG Classifier will be chosen for this application since it has the best F-beta score and the smallest time associated with making a prediction."
   ]
  },
  {
   "cell_type": "markdown",
   "metadata": {},
   "source": [
    "### Question 4 - Describing the Model in Layman's Terms\n",
    "\n",
    "* In one to two paragraphs, explain to *CharityML*, in layman's terms, how the final model chosen is supposed to work. Be sure that you are describing the major qualities of the model, such as how the model is trained and how the model makes a prediction. Avoid using advanced mathematical jargon, such as describing equations.\n",
    "\n",
    "** HINT: **\n",
    "\n",
    "When explaining your model, if using external resources please include all citations."
   ]
  },
  {
   "cell_type": "markdown",
   "metadata": {},
   "source": [
    "**Answer:**\n",
    "\n",
    "#### References:\n",
    "- Course Lecture and Text Recap notes\n",
    "- scikit learn User Guide - section 1.5 - https://scikit-learn.org/stable/modules/sgd.html\n",
    "\n",
    "#### Explanation\n",
    "\n",
    "A Stochastic Gradient Decsent Classifier (SGDC) has a goal of minimizing the error associated with an outcome prediction for a given set of inputs.  It does this by creating a mathematical equation that weights each of the inputs and defines a constant to result in a minimization in prediction error.  The trick is how to find the best equation in the shortest amount of time. How do we balance the complexity of the equation (the more complex, the more computer horse power we need) against its ability to correctly predict the outcome?  SGDC has 2 key features that help with both, learning rate and a decision boundry margin. \n",
    "\n",
    "A decision boundry is mathamatically defined between the possible prediction outcomes. There is also a margin of error defined around the boundry. A visual of a sample boundary is shown in the following diagram.  There two possible prediction's are >50k and <=50k. In this example there are only 2 inputs - hours-per-week and age.  For ease the boundary is shown as a straight line, but it can any shape.  \n",
    "\n",
    "![alt text](SGDC_explain.png)\n",
    "\n",
    "A learning rate is used to specify the maximum amount of change in the weights associated with the inputs in each iteration.  By using a controlled rate of change, the model will not oscillate wildly during the training process.  This helps to reduce the amount of time required to train the model.\n",
    "\n",
    "Using the training data, specified boundry margin, specified learning rate and a starting weight associated with each input, the SGDC uses an iterative approach to:\n",
    "- determine the amount of error associated with the prediction based on one set of inputs\n",
    "- use the error to adjust the weight associated with each input\n",
    "- update the equation that describes the boundary and the margin of error\n",
    "\n",
    "These 3 basic steps are repeated until the either the error has been minimized over all the points, or until the algorithm has reached the maximum number of iterations specified."
   ]
  },
  {
   "cell_type": "markdown",
   "metadata": {},
   "source": [
    "### Implementation: Model Tuning\n",
    "Fine tune the chosen model. Use grid search (`GridSearchCV`) with at least one important parameter tuned with at least 3 different values. You will need to use the entire training set for this. In the code cell below, you will need to implement the following:\n",
    "- Import [`sklearn.grid_search.GridSearchCV`](http://scikit-learn.org/0.17/modules/generated/sklearn.grid_search.GridSearchCV.html) and [`sklearn.metrics.make_scorer`](http://scikit-learn.org/stable/modules/generated/sklearn.metrics.make_scorer.html).\n",
    "- Initialize the classifier you've chosen and store it in `clf`.\n",
    " - Set a `random_state` if one is available to the same state you set before.\n",
    "- Create a dictionary of parameters you wish to tune for the chosen model.\n",
    " - Example: `parameters = {'parameter' : [list of values]}`.\n",
    " - **Note:** Avoid tuning the `max_features` parameter of your learner if that parameter is available!\n",
    "- Use `make_scorer` to create an `fbeta_score` scoring object (with $\\beta = 0.5$).\n",
    "- Perform grid search on the classifier `clf` using the `'scorer'`, and store it in `grid_obj`.\n",
    "- Fit the grid search object to the training data (`X_train`, `y_train`), and store it in `grid_fit`.\n",
    "\n",
    "**Note:** Depending on the algorithm chosen and the parameter list, the following implementation may take some time to run!"
   ]
  },
  {
   "cell_type": "code",
   "execution_count": 15,
   "metadata": {},
   "outputs": [
    {
     "name": "stdout",
     "output_type": "stream",
     "text": [
      "Unoptimized model\n",
      "------\n",
      "Accuracy score on testing data: 0.8407\n",
      "F-score on testing data: 0.6879\n",
      "\n",
      "Optimized Model\n",
      "------\n",
      "Final accuracy score on the testing data: 0.8410\n",
      "Final F-score on the testing data: 0.6908\n"
     ]
    }
   ],
   "source": [
    "# TODO: Import 'GridSearchCV', 'make_scorer', and any other necessary libraries\n",
    "from sklearn.model_selection import GridSearchCV\n",
    "from sklearn.metrics import make_scorer\n",
    "\n",
    "# TODO: Initialize the classifier\n",
    "clf = SGDClassifier(random_state = 1)\n",
    "\n",
    "# TODO: Create the parameters list you wish to tune, using a dictionary if needed.\n",
    "# HINT: parameters = {'parameter_1': [value1, value2], 'parameter_2': [value1, value2]}\n",
    "parameters = {'penalty': ['l2', 'l1', 'elasticnet'], \n",
    "              'max_iter' : [1000, 10000, 100000], \n",
    "              'loss': ['hinge', 'log', 'perceptron']}\n",
    "\n",
    "# TODO: Make an fbeta_score scoring object using make_scorer()\n",
    "scorer = make_scorer(fbeta_score, beta=0.5)\n",
    "\n",
    "# TODO: Perform grid search on the classifier using 'scorer' as the scoring method using GridSearchCV()\n",
    "grid_obj = GridSearchCV(clf, parameters, scoring=scorer)\n",
    "\n",
    "# TODO: Fit the grid search object to the training data and find the optimal parameters using fit()\n",
    "grid_fit = grid_obj.fit(X_train, y_train)\n",
    "\n",
    "# Get the estimator\n",
    "best_clf = grid_fit.best_estimator_\n",
    "\n",
    "# Make predictions using the unoptimized and model\n",
    "predictions = (clf.fit(X_train, y_train)).predict(X_test)\n",
    "best_predictions = best_clf.predict(X_test)\n",
    "\n",
    "# Report the before-and-afterscores\n",
    "print(\"Unoptimized model\\n------\")\n",
    "print(\"Accuracy score on testing data: {:.4f}\".format(accuracy_score(y_test, predictions)))\n",
    "print(\"F-score on testing data: {:.4f}\".format(fbeta_score(y_test, predictions, beta = 0.5)))\n",
    "print(\"\\nOptimized Model\\n------\")\n",
    "print(\"Final accuracy score on the testing data: {:.4f}\".format(accuracy_score(y_test, best_predictions)))\n",
    "print(\"Final F-score on the testing data: {:.4f}\".format(fbeta_score(y_test, best_predictions, beta = 0.5)))"
   ]
  },
  {
   "cell_type": "code",
   "execution_count": 16,
   "metadata": {},
   "outputs": [
    {
     "data": {
      "text/plain": [
       "SGDClassifier(alpha=0.0001, average=False, class_weight=None,\n",
       "              early_stopping=False, epsilon=0.1, eta0=0.0, fit_intercept=True,\n",
       "              l1_ratio=0.15, learning_rate='optimal', loss='log', max_iter=1000,\n",
       "              n_iter_no_change=5, n_jobs=None, penalty='l2', power_t=0.5,\n",
       "              random_state=1, shuffle=True, tol=0.001, validation_fraction=0.1,\n",
       "              verbose=0, warm_start=False)"
      ]
     },
     "execution_count": 16,
     "metadata": {},
     "output_type": "execute_result"
    }
   ],
   "source": [
    "best_clf"
   ]
  },
  {
   "cell_type": "markdown",
   "metadata": {},
   "source": [
    "### Question 5 - Final Model Evaluation\n",
    "\n",
    "* What is your optimized model's accuracy and F-score on the testing data? \n",
    "* Are these scores better or worse than the unoptimized model? \n",
    "* How do the results from your optimized model compare to the naive predictor benchmarks you found earlier in **Question 1**?_  \n",
    "\n",
    "**Note:** Fill in the table below with your results, and then provide discussion in the **Answer** box."
   ]
  },
  {
   "cell_type": "markdown",
   "metadata": {},
   "source": [
    "#### Results:\n",
    "\n",
    "|     Metric     | Unoptimized Model | Optimized Model |Naive Predictor|\n",
    "| :------------: | :---------------: | :-------------: |:-------------:| \n",
    "| Accuracy Score |    0.8407         |  0.8410         |  0.2478       |\n",
    "| F-score        |    0.6879         |  0.6908         |  0.2917       |\n"
   ]
  },
  {
   "cell_type": "markdown",
   "metadata": {},
   "source": [
    "**Answer:**\n",
    "\n",
    "The optimized results for both accuracy and F-Score were greater than the unoptimized SGDC model.  The Naive Predictor had worse accuracy and F-Score than either version of the SGDC model."
   ]
  },
  {
   "cell_type": "markdown",
   "metadata": {},
   "source": [
    "----\n",
    "## Feature Importance\n",
    "\n",
    "An important task when performing supervised learning on a dataset like the census data we study here is determining which features provide the most predictive power. By focusing on the relationship between only a few crucial features and the target label we simplify our understanding of the phenomenon, which is most always a useful thing to do. In the case of this project, that means we wish to identify a small number of features that most strongly predict whether an individual makes at most or more than \\$50,000.\n",
    "\n",
    "Choose a scikit-learn classifier (e.g., adaboost, random forests) that has a `feature_importance_` attribute, which is a function that ranks the importance of features according to the chosen classifier.  In the next python cell fit this classifier to training set and use this attribute to determine the top 5 most important features for the census dataset."
   ]
  },
  {
   "cell_type": "markdown",
   "metadata": {},
   "source": [
    "### Question 6 - Feature Relevance Observation\n",
    "When **Exploring the Data**, it was shown there are thirteen available features for each individual on record in the census data. Of these thirteen records, which five features do you believe to be most important for prediction, and in what order would you rank them and why?"
   ]
  },
  {
   "cell_type": "code",
   "execution_count": 17,
   "metadata": {},
   "outputs": [],
   "source": [
    "# do a quick correlation test between the various columns\n",
    "temp_data = data\n",
    "#temp_data.head()"
   ]
  },
  {
   "cell_type": "code",
   "execution_count": 18,
   "metadata": {},
   "outputs": [],
   "source": [
    "temp_data['workclass'] = temp_data['workclass'].astype('category').cat.codes\n",
    "temp_data['education_level'] = temp_data['education_level'].astype('category').cat.codes\n",
    "temp_data['marital-status'] = temp_data['marital-status'].astype('category').cat.codes\n",
    "temp_data['occupation'] = temp_data['occupation'].astype('category').cat.codes\n",
    "temp_data['relationship'] = temp_data['relationship'].astype('category').cat.codes\n",
    "temp_data['race'] = temp_data['race'].astype('category').cat.codes\n",
    "temp_data['sex'] = temp_data['sex'].astype('category').cat.codes\n",
    "temp_data['native-country'] = temp_data['native-country'].astype('category').cat.codes\n",
    "temp_data['income'] = temp_data['income'].astype('category').cat.codes\n",
    "temp_cols = temp_data.columns.tolist()\n",
    "temp_cols = temp_cols[-1:] + temp_cols[:-1]\n",
    "temp_data = temp_data[temp_cols]\n",
    "#temp_data.head()"
   ]
  },
  {
   "cell_type": "code",
   "execution_count": 19,
   "metadata": {},
   "outputs": [
    {
     "data": {
      "text/html": [
       "<div>\n",
       "<style scoped>\n",
       "    .dataframe tbody tr th:only-of-type {\n",
       "        vertical-align: middle;\n",
       "    }\n",
       "\n",
       "    .dataframe tbody tr th {\n",
       "        vertical-align: top;\n",
       "    }\n",
       "\n",
       "    .dataframe thead th {\n",
       "        text-align: right;\n",
       "    }\n",
       "</style>\n",
       "<table border=\"1\" class=\"dataframe\">\n",
       "  <thead>\n",
       "    <tr style=\"text-align: right;\">\n",
       "      <th></th>\n",
       "      <th>income</th>\n",
       "      <th>age</th>\n",
       "      <th>workclass</th>\n",
       "      <th>education_level</th>\n",
       "      <th>education-num</th>\n",
       "      <th>marital-status</th>\n",
       "      <th>occupation</th>\n",
       "      <th>relationship</th>\n",
       "      <th>race</th>\n",
       "      <th>sex</th>\n",
       "      <th>capital-gain</th>\n",
       "      <th>capital-loss</th>\n",
       "      <th>hours-per-week</th>\n",
       "      <th>native-country</th>\n",
       "    </tr>\n",
       "  </thead>\n",
       "  <tbody>\n",
       "    <tr>\n",
       "      <th>income</th>\n",
       "      <td>1.000000</td>\n",
       "      <td>0.237040</td>\n",
       "      <td>0.015659</td>\n",
       "      <td>0.081196</td>\n",
       "      <td>0.332800</td>\n",
       "      <td>-0.192711</td>\n",
       "      <td>0.049787</td>\n",
       "      <td>-0.253402</td>\n",
       "      <td>0.070844</td>\n",
       "      <td>0.215760</td>\n",
       "      <td>0.221034</td>\n",
       "      <td>0.148687</td>\n",
       "      <td>0.227199</td>\n",
       "      <td>0.020103</td>\n",
       "    </tr>\n",
       "    <tr>\n",
       "      <th>age</th>\n",
       "      <td>0.237040</td>\n",
       "      <td>1.000000</td>\n",
       "      <td>0.085892</td>\n",
       "      <td>-0.003511</td>\n",
       "      <td>0.037623</td>\n",
       "      <td>-0.271623</td>\n",
       "      <td>-0.004474</td>\n",
       "      <td>-0.247564</td>\n",
       "      <td>0.023776</td>\n",
       "      <td>0.082053</td>\n",
       "      <td>0.079683</td>\n",
       "      <td>0.059351</td>\n",
       "      <td>0.101992</td>\n",
       "      <td>-0.003180</td>\n",
       "    </tr>\n",
       "    <tr>\n",
       "      <th>workclass</th>\n",
       "      <td>0.015659</td>\n",
       "      <td>0.085892</td>\n",
       "      <td>1.000000</td>\n",
       "      <td>0.017846</td>\n",
       "      <td>0.040779</td>\n",
       "      <td>-0.033221</td>\n",
       "      <td>0.017508</td>\n",
       "      <td>-0.065049</td>\n",
       "      <td>0.049765</td>\n",
       "      <td>0.069638</td>\n",
       "      <td>0.034543</td>\n",
       "      <td>0.008233</td>\n",
       "      <td>0.051366</td>\n",
       "      <td>0.003889</td>\n",
       "    </tr>\n",
       "    <tr>\n",
       "      <th>education_level</th>\n",
       "      <td>0.081196</td>\n",
       "      <td>-0.003511</td>\n",
       "      <td>0.017846</td>\n",
       "      <td>1.000000</td>\n",
       "      <td>0.347444</td>\n",
       "      <td>-0.041520</td>\n",
       "      <td>-0.033499</td>\n",
       "      <td>-0.013179</td>\n",
       "      <td>0.011457</td>\n",
       "      <td>-0.027569</td>\n",
       "      <td>0.029889</td>\n",
       "      <td>0.016877</td>\n",
       "      <td>0.060887</td>\n",
       "      <td>0.077893</td>\n",
       "    </tr>\n",
       "    <tr>\n",
       "      <th>education-num</th>\n",
       "      <td>0.332800</td>\n",
       "      <td>0.037623</td>\n",
       "      <td>0.040779</td>\n",
       "      <td>0.347444</td>\n",
       "      <td>1.000000</td>\n",
       "      <td>-0.064986</td>\n",
       "      <td>0.089686</td>\n",
       "      <td>-0.088431</td>\n",
       "      <td>0.031655</td>\n",
       "      <td>0.003417</td>\n",
       "      <td>0.126907</td>\n",
       "      <td>0.081711</td>\n",
       "      <td>0.146206</td>\n",
       "      <td>0.092994</td>\n",
       "    </tr>\n",
       "    <tr>\n",
       "      <th>marital-status</th>\n",
       "      <td>-0.192711</td>\n",
       "      <td>-0.271623</td>\n",
       "      <td>-0.033221</td>\n",
       "      <td>-0.041520</td>\n",
       "      <td>-0.064986</td>\n",
       "      <td>1.000000</td>\n",
       "      <td>0.016399</td>\n",
       "      <td>0.180436</td>\n",
       "      <td>-0.070302</td>\n",
       "      <td>-0.120008</td>\n",
       "      <td>-0.042399</td>\n",
       "      <td>-0.034820</td>\n",
       "      <td>-0.183178</td>\n",
       "      <td>-0.022721</td>\n",
       "    </tr>\n",
       "    <tr>\n",
       "      <th>occupation</th>\n",
       "      <td>0.049787</td>\n",
       "      <td>-0.004474</td>\n",
       "      <td>0.017508</td>\n",
       "      <td>-0.033499</td>\n",
       "      <td>0.089686</td>\n",
       "      <td>0.016399</td>\n",
       "      <td>1.000000</td>\n",
       "      <td>-0.051644</td>\n",
       "      <td>-0.000026</td>\n",
       "      <td>0.056625</td>\n",
       "      <td>0.019435</td>\n",
       "      <td>0.015267</td>\n",
       "      <td>0.016160</td>\n",
       "      <td>-0.002848</td>\n",
       "    </tr>\n",
       "    <tr>\n",
       "      <th>relationship</th>\n",
       "      <td>-0.253402</td>\n",
       "      <td>-0.247564</td>\n",
       "      <td>-0.065049</td>\n",
       "      <td>-0.013179</td>\n",
       "      <td>-0.088431</td>\n",
       "      <td>0.180436</td>\n",
       "      <td>-0.051644</td>\n",
       "      <td>1.000000</td>\n",
       "      <td>-0.118584</td>\n",
       "      <td>-0.582974</td>\n",
       "      <td>-0.056818</td>\n",
       "      <td>-0.058425</td>\n",
       "      <td>-0.259194</td>\n",
       "      <td>-0.007144</td>\n",
       "    </tr>\n",
       "    <tr>\n",
       "      <th>race</th>\n",
       "      <td>0.070844</td>\n",
       "      <td>0.023776</td>\n",
       "      <td>0.049765</td>\n",
       "      <td>0.011457</td>\n",
       "      <td>0.031655</td>\n",
       "      <td>-0.070302</td>\n",
       "      <td>-0.000026</td>\n",
       "      <td>-0.118584</td>\n",
       "      <td>1.000000</td>\n",
       "      <td>0.088935</td>\n",
       "      <td>0.014078</td>\n",
       "      <td>0.020955</td>\n",
       "      <td>0.044738</td>\n",
       "      <td>0.124342</td>\n",
       "    </tr>\n",
       "    <tr>\n",
       "      <th>sex</th>\n",
       "      <td>0.215760</td>\n",
       "      <td>0.082053</td>\n",
       "      <td>0.069638</td>\n",
       "      <td>-0.027569</td>\n",
       "      <td>0.003417</td>\n",
       "      <td>-0.120008</td>\n",
       "      <td>0.056625</td>\n",
       "      <td>-0.582974</td>\n",
       "      <td>0.088935</td>\n",
       "      <td>1.000000</td>\n",
       "      <td>0.047444</td>\n",
       "      <td>0.046457</td>\n",
       "      <td>0.231425</td>\n",
       "      <td>-0.004170</td>\n",
       "    </tr>\n",
       "    <tr>\n",
       "      <th>capital-gain</th>\n",
       "      <td>0.221034</td>\n",
       "      <td>0.079683</td>\n",
       "      <td>0.034543</td>\n",
       "      <td>0.029889</td>\n",
       "      <td>0.126907</td>\n",
       "      <td>-0.042399</td>\n",
       "      <td>0.019435</td>\n",
       "      <td>-0.056818</td>\n",
       "      <td>0.014078</td>\n",
       "      <td>0.047444</td>\n",
       "      <td>1.000000</td>\n",
       "      <td>-0.032102</td>\n",
       "      <td>0.083880</td>\n",
       "      <td>0.007643</td>\n",
       "    </tr>\n",
       "    <tr>\n",
       "      <th>capital-loss</th>\n",
       "      <td>0.148687</td>\n",
       "      <td>0.059351</td>\n",
       "      <td>0.008233</td>\n",
       "      <td>0.016877</td>\n",
       "      <td>0.081711</td>\n",
       "      <td>-0.034820</td>\n",
       "      <td>0.015267</td>\n",
       "      <td>-0.058425</td>\n",
       "      <td>0.020955</td>\n",
       "      <td>0.046457</td>\n",
       "      <td>-0.032102</td>\n",
       "      <td>1.000000</td>\n",
       "      <td>0.054195</td>\n",
       "      <td>0.005955</td>\n",
       "    </tr>\n",
       "    <tr>\n",
       "      <th>hours-per-week</th>\n",
       "      <td>0.227199</td>\n",
       "      <td>0.101992</td>\n",
       "      <td>0.051366</td>\n",
       "      <td>0.060887</td>\n",
       "      <td>0.146206</td>\n",
       "      <td>-0.183178</td>\n",
       "      <td>0.016160</td>\n",
       "      <td>-0.259194</td>\n",
       "      <td>0.044738</td>\n",
       "      <td>0.231425</td>\n",
       "      <td>0.083880</td>\n",
       "      <td>0.054195</td>\n",
       "      <td>1.000000</td>\n",
       "      <td>0.007554</td>\n",
       "    </tr>\n",
       "    <tr>\n",
       "      <th>native-country</th>\n",
       "      <td>0.020103</td>\n",
       "      <td>-0.003180</td>\n",
       "      <td>0.003889</td>\n",
       "      <td>0.077893</td>\n",
       "      <td>0.092994</td>\n",
       "      <td>-0.022721</td>\n",
       "      <td>-0.002848</td>\n",
       "      <td>-0.007144</td>\n",
       "      <td>0.124342</td>\n",
       "      <td>-0.004170</td>\n",
       "      <td>0.007643</td>\n",
       "      <td>0.005955</td>\n",
       "      <td>0.007554</td>\n",
       "      <td>1.000000</td>\n",
       "    </tr>\n",
       "  </tbody>\n",
       "</table>\n",
       "</div>"
      ],
      "text/plain": [
       "                   income       age  workclass  education_level  \\\n",
       "income           1.000000  0.237040   0.015659         0.081196   \n",
       "age              0.237040  1.000000   0.085892        -0.003511   \n",
       "workclass        0.015659  0.085892   1.000000         0.017846   \n",
       "education_level  0.081196 -0.003511   0.017846         1.000000   \n",
       "education-num    0.332800  0.037623   0.040779         0.347444   \n",
       "marital-status  -0.192711 -0.271623  -0.033221        -0.041520   \n",
       "occupation       0.049787 -0.004474   0.017508        -0.033499   \n",
       "relationship    -0.253402 -0.247564  -0.065049        -0.013179   \n",
       "race             0.070844  0.023776   0.049765         0.011457   \n",
       "sex              0.215760  0.082053   0.069638        -0.027569   \n",
       "capital-gain     0.221034  0.079683   0.034543         0.029889   \n",
       "capital-loss     0.148687  0.059351   0.008233         0.016877   \n",
       "hours-per-week   0.227199  0.101992   0.051366         0.060887   \n",
       "native-country   0.020103 -0.003180   0.003889         0.077893   \n",
       "\n",
       "                 education-num  marital-status  occupation  relationship  \\\n",
       "income                0.332800       -0.192711    0.049787     -0.253402   \n",
       "age                   0.037623       -0.271623   -0.004474     -0.247564   \n",
       "workclass             0.040779       -0.033221    0.017508     -0.065049   \n",
       "education_level       0.347444       -0.041520   -0.033499     -0.013179   \n",
       "education-num         1.000000       -0.064986    0.089686     -0.088431   \n",
       "marital-status       -0.064986        1.000000    0.016399      0.180436   \n",
       "occupation            0.089686        0.016399    1.000000     -0.051644   \n",
       "relationship         -0.088431        0.180436   -0.051644      1.000000   \n",
       "race                  0.031655       -0.070302   -0.000026     -0.118584   \n",
       "sex                   0.003417       -0.120008    0.056625     -0.582974   \n",
       "capital-gain          0.126907       -0.042399    0.019435     -0.056818   \n",
       "capital-loss          0.081711       -0.034820    0.015267     -0.058425   \n",
       "hours-per-week        0.146206       -0.183178    0.016160     -0.259194   \n",
       "native-country        0.092994       -0.022721   -0.002848     -0.007144   \n",
       "\n",
       "                     race       sex  capital-gain  capital-loss  \\\n",
       "income           0.070844  0.215760      0.221034      0.148687   \n",
       "age              0.023776  0.082053      0.079683      0.059351   \n",
       "workclass        0.049765  0.069638      0.034543      0.008233   \n",
       "education_level  0.011457 -0.027569      0.029889      0.016877   \n",
       "education-num    0.031655  0.003417      0.126907      0.081711   \n",
       "marital-status  -0.070302 -0.120008     -0.042399     -0.034820   \n",
       "occupation      -0.000026  0.056625      0.019435      0.015267   \n",
       "relationship    -0.118584 -0.582974     -0.056818     -0.058425   \n",
       "race             1.000000  0.088935      0.014078      0.020955   \n",
       "sex              0.088935  1.000000      0.047444      0.046457   \n",
       "capital-gain     0.014078  0.047444      1.000000     -0.032102   \n",
       "capital-loss     0.020955  0.046457     -0.032102      1.000000   \n",
       "hours-per-week   0.044738  0.231425      0.083880      0.054195   \n",
       "native-country   0.124342 -0.004170      0.007643      0.005955   \n",
       "\n",
       "                 hours-per-week  native-country  \n",
       "income                 0.227199        0.020103  \n",
       "age                    0.101992       -0.003180  \n",
       "workclass              0.051366        0.003889  \n",
       "education_level        0.060887        0.077893  \n",
       "education-num          0.146206        0.092994  \n",
       "marital-status        -0.183178       -0.022721  \n",
       "occupation             0.016160       -0.002848  \n",
       "relationship          -0.259194       -0.007144  \n",
       "race                   0.044738        0.124342  \n",
       "sex                    0.231425       -0.004170  \n",
       "capital-gain           0.083880        0.007643  \n",
       "capital-loss           0.054195        0.005955  \n",
       "hours-per-week         1.000000        0.007554  \n",
       "native-country         0.007554        1.000000  "
      ]
     },
     "execution_count": 19,
     "metadata": {},
     "output_type": "execute_result"
    }
   ],
   "source": [
    "temp_data.corr()"
   ]
  },
  {
   "cell_type": "markdown",
   "metadata": {},
   "source": [
    "**Answer:**\n",
    "\n",
    "Based on my 30+ years of work experience in predominately technical compaines, advice from career pundits and the media reports, I would expect the 5 most imporant features to be:\n",
    "- education level - in technical fields, people with Masters and PH.D's are usually paid more than people with a diploma or degree\n",
    "- workclass - traditionally private industries pay higher salaries than the other workclass categories, the trade off is usually in the area of benefits.\n",
    "- age - in 1994, people with more years of work experience were usually paid more.  Age would be an indicator of work experience.  All that changed between 1997 and 2001 when the tech market really exploded.  Then it almost seemed to invert and younger people with fresher technical knowledge commanded higher wages.\n",
    "- occupation - society values certain occupations more than others\n",
    "- sex - in 1994, most senior positions were held by men, and these positions would normally earn more money\n",
    "\n",
    "My list is not ordered from most important to least important.\n",
    "\n",
    "Based on the quick correlation matrix above, I would expect the 5 most important features to be:\n",
    "- age\n",
    "- number of education years completed (education-num)\n",
    "- sex\n",
    "- capital-gain\n",
    "- hours-per-week\n",
    "\n",
    "Again, the list is not ordered from most important to least important."
   ]
  },
  {
   "cell_type": "markdown",
   "metadata": {},
   "source": [
    "### Implementation - Extracting Feature Importance\n",
    "Choose a `scikit-learn` supervised learning algorithm that has a `feature_importance_` attribute availble for it. This attribute is a function that ranks the importance of each feature when making predictions based on the chosen algorithm.\n",
    "\n",
    "In the code cell below, you will need to implement the following:\n",
    " - Import a supervised learning model from sklearn if it is different from the three used earlier.\n",
    " - Train the supervised model on the entire training set.\n",
    " - Extract the feature importances using `'.feature_importances_'`."
   ]
  },
  {
   "cell_type": "code",
   "execution_count": 20,
   "metadata": {},
   "outputs": [
    {
     "data": {
      "image/png": "[encoded data removed]",
      "text/plain": [
       "<Figure size 648x360 with 1 Axes>"
      ]
     },
     "metadata": {
      "needs_background": "light"
     },
     "output_type": "display_data"
    }
   ],
   "source": [
    "# TODO: Import a supervised learning model that has 'feature_importances_'\n",
    "from sklearn.tree import DecisionTreeClassifier\n",
    "\n",
    "# TODO: Train the supervised model on the training set using .fit(X_train, y_train)\n",
    "model = DecisionTreeClassifier(random_state=54)\n",
    "model.fit(X_train, y_train)\n",
    "\n",
    "# TODO: Extract the feature importances using .feature_importances_ \n",
    "importances = model.feature_importances_\n",
    "\n",
    "# Plot\n",
    "vs.feature_plot(importances, X_train, y_train)"
   ]
  },
  {
   "cell_type": "markdown",
   "metadata": {},
   "source": [
    "### Question 7 - Extracting Feature Importance\n",
    "\n",
    "Observe the visualization created above which displays the five most relevant features for predicting if an individual makes at most or above \\$50,000.  \n",
    "* How do these five features compare to the five features you discussed in **Question 6**?\n",
    "* If you were close to the same answer, how does this visualization confirm your thoughts? \n",
    "* If you were not close, why do you think these features are more relevant?"
   ]
  },
  {
   "cell_type": "markdown",
   "metadata": {},
   "source": [
    "**Answer:**\n",
    "Comparing the answers I gave in question 6 to the results from the Decision Tree Classifier, I noticed a few things.\n",
    "\n",
    "First, neither my experience or quick look at correlation indicated that **Marital Status** would be in the top 5, yet for the model, it was the most important feature.  Specifically, the status of **Married-civ-spouse**.  In the correlation check I ran, I did not correlate agaisnt each of the 7 possible Maritial Status.  If I had spent more time exploring the data, I may have found this.  In my personal experience, my salary did not really change after I got married, so I would not have considered this as a major influencing factor.\n",
    "\n",
    "Second, except for **Marital Status**, the correlation between the original 13 variables and income, would have meant that 4 of the 5 top factors would have been highlighted in the original data exploration as factors to explore more closely. \n",
    "\n",
    "Third, while I still believe the gender wage gap is real, gender did not appear as one of the top 5 factors with the Decision Tree Classifier.  "
   ]
  },
  {
   "cell_type": "markdown",
   "metadata": {},
   "source": [
    "### Feature Selection\n",
    "How does a model perform if we only use a subset of all the available features in the data? With less features required to train, the expectation is that training and prediction time is much lower — at the cost of performance metrics. From the visualization above, we see that the top five most important features contribute more than half of the importance of **all** features present in the data. This hints that we can attempt to *reduce the feature space* and simplify the information required for the model to learn. The code cell below will use the same optimized model you found earlier, and train it on the same training set *with only the top five important features*. "
   ]
  },
  {
   "cell_type": "code",
   "execution_count": 21,
   "metadata": {},
   "outputs": [
    {
     "name": "stdout",
     "output_type": "stream",
     "text": [
      "Final Model trained on full data\n",
      "------\n",
      "Accuracy on testing data: 0.8410\n",
      "F-score on testing data: 0.6908\n",
      "\n",
      "Final Model trained on reduced data\n",
      "------\n",
      "Accuracy on testing data: 0.8249\n",
      "F-score on testing data: 0.6421\n"
     ]
    }
   ],
   "source": [
    "# Import functionality for cloning a model\n",
    "from sklearn.base import clone\n",
    "\n",
    "# Reduce the feature space\n",
    "X_train_reduced = X_train[X_train.columns.values[(np.argsort(importances)[::-1])[:5]]]\n",
    "X_test_reduced = X_test[X_test.columns.values[(np.argsort(importances)[::-1])[:5]]]\n",
    "\n",
    "# Train on the \"best\" model found from grid search earlier\n",
    "clf = (clone(best_clf)).fit(X_train_reduced, y_train)\n",
    "\n",
    "# Make new predictions\n",
    "reduced_predictions = clf.predict(X_test_reduced)\n",
    "\n",
    "# Report scores from the final model using both versions of data\n",
    "print(\"Final Model trained on full data\\n------\")\n",
    "print(\"Accuracy on testing data: {:.4f}\".format(accuracy_score(y_test, best_predictions)))\n",
    "print(\"F-score on testing data: {:.4f}\".format(fbeta_score(y_test, best_predictions, beta = 0.5)))\n",
    "print(\"\\nFinal Model trained on reduced data\\n------\")\n",
    "print(\"Accuracy on testing data: {:.4f}\".format(accuracy_score(y_test, reduced_predictions)))\n",
    "print(\"F-score on testing data: {:.4f}\".format(fbeta_score(y_test, reduced_predictions, beta = 0.5)))"
   ]
  },
  {
   "cell_type": "markdown",
   "metadata": {},
   "source": [
    "### Question 8 - Effects of Feature Selection\n",
    "\n",
    "* How does the final model's F-score and accuracy score on the reduced data using only five features compare to those same scores when all features are used?\n",
    "* If training time was a factor, would you consider using the reduced data as your training set?"
   ]
  },
  {
   "cell_type": "markdown",
   "metadata": {},
   "source": [
    "#### **Answer:**\n",
    "\n",
    "The final model's F-Score and accuracy score both drop using the reduced data associated with the five features.  The F-Score drops 4.9%.  The accuracy also drops, but for this applicaiton , I am more concerned with the F-Score.  \n",
    "\n",
    "Based on the amount of change and the application, I would not consider using the reduced data for the training set.\n",
    "\n",
    "With the reduced set, we would send out more letters and less of them would be sent to the target group who make >50k.  This would be costly to CharityML in both the real cost of mail outs and a likely reduction in donations.\n",
    "\n",
    "![alt txt](Project1_ModelCompare.png)\n",
    "\n"
   ]
  },
  {
   "cell_type": "markdown",
   "metadata": {},
   "source": [
    "> **Note**: Once you have completed all of the code implementations and successfully answered each question above, you may finalize your work by exporting the iPython Notebook as an HTML document. You can do this by using the menu above and navigating to  \n",
    "**File -> Download as -> HTML (.html)**. Include the finished document along with this notebook as your submission."
   ]
  },
  {
   "cell_type": "markdown",
   "metadata": {},
   "source": [
    "## Additional Notes\n",
    "\n",
    "While I was working on the project, I took additional notes and explored different things.  I have grouped the additional work at the end so that the reviewer does not have to wade through all this info if they don't want to."
   ]
  },
  {
   "cell_type": "markdown",
   "metadata": {},
   "source": [
    "### what value of beta to use in F-beta?\n",
    "\n",
    "I did this before reading the section on Model Performance where the value of Beta was given as 0.5 for the same reasons I thought it would\n",
    "\n",
    "**confusion matrix**\n",
    "\n",
    "||predict >50k|predict <=50k|\n",
    "|---|---|---|\n",
    "|>50k|good|loss of donor|\n",
    "|<=50k|could still donate|good|\n",
    "\n",
    "I think the worst mistake to make is false negative => predicting someone who makes >50k makes <=50k.  This means you don't even reach out to a person that would be more likely to donate. However if you mistakenly send something to a person who makes less than <=50k, they could still donate.  So I want to minimize the number of False Negatives, or Type 2 errors.  This means I would like a model that has high precision.\n",
    "\n",
    "To choose beta in the F-beta score to give more weight to a model's precision, I should use a value of Beta < 1. I will use 0.5."
   ]
  },
  {
   "cell_type": "markdown",
   "metadata": {},
   "source": [
    "### Additional Data Exploration"
   ]
  },
  {
   "cell_type": "markdown",
   "metadata": {},
   "source": [
    "From the first review, there was a link to Quora for suggestions on how to handle an unbalanced training set. Including it here for my future self: https://www.quora.com/In-classification-how-do-you-handle-an-unbalanced-training-set"
   ]
  },
  {
   "cell_type": "markdown",
   "metadata": {},
   "source": [
    "I wanted to see the distribution of the input variables in the data set.  Using the Seaborn.  I am also not going to revist this, so I am not creating a function or optimizing my code.\n"
   ]
  },
  {
   "cell_type": "code",
   "execution_count": 22,
   "metadata": {},
   "outputs": [
    {
     "data": {
      "image/png": "[encoded data removed]",
      "text/plain": [
       "<Figure size 1440x1440 with 15 Axes>"
      ]
     },
     "metadata": {
      "needs_background": "light"
     },
     "output_type": "display_data"
    }
   ],
   "source": [
    "# take a quick look at the input features\n",
    "\n",
    "fig, ax = plot.subplots(5,3, figsize=(20,20))\n",
    "\n",
    "ax[0,0].set_title(\"workclass\")\n",
    "sns.countplot(data['workclass'], ax=ax[0,0] )\n",
    "ax[0,0].tick_params('x',labelrotation=45)\n",
    "ax[0,1].set_title('sex')\n",
    "sns.countplot(data['sex'], ax=ax[0,1])\n",
    "ax[0,2].set_title('education_level')\n",
    "ax[0,2].tick_params('x',labelrotation=45)\n",
    "sns.countplot(data['education_level'], ax=ax[0,2]) \n",
    "\n",
    "ax[1,0].set_title(\"marital-status\")\n",
    "sns.countplot(data['marital-status'], ax=ax[1,0] )\n",
    "ax[1,0].tick_params('x',labelrotation=45)\n",
    "ax[1,1].set_title('occupation')\n",
    "sns.countplot(data['occupation'], ax=ax[1,1])\n",
    "ax[1,1].tick_params('x',labelrotation=45)\n",
    "ax[1,2].set_title('relationship')\n",
    "sns.countplot(data['relationship'], ax=ax[1,2]) \n",
    "ax[1,2].tick_params('x',labelrotation=45)\n",
    "\n",
    "ax[2,0].set_title(\"race\")\n",
    "sns.countplot(data['race'], ax=ax[2,0] )\n",
    "ax[2,0].tick_params('x',labelrotation=45)\n",
    "ax[2,1].set_title('native-country')\n",
    "sns.countplot(data['native-country'], ax=ax[2,1])\n",
    "ax[2,1].tick_params('x',labelrotation=45)\n",
    "ax[2,2].set_title('age')\n",
    "sns.distplot(data['age'], kde = False, bins=20, ax=ax[2,2])\n",
    "\n",
    "ax[3,0].set_title('hours-per-week')\n",
    "sns.distplot(data['hours-per-week'], kde = False, bins=20, ax=ax[3,0])\n",
    "ax[3,1].set_title('education-num')\n",
    "sns.distplot(data['education-num'], kde = False, bins=20, ax=ax[3,1])\n",
    "ax[3,2].set_title('capital-gain')\n",
    "sns.distplot(data['capital-gain'], kde = False, bins=20, ax=ax[3,2])\n",
    "\n",
    "ax[4,0].set_title('capital-loss')\n",
    "sns.distplot(data['capital-loss'], kde = False, bins=20, ax=ax[4,0])\n",
    "\n",
    "plot.xticks(rotation=45)\n",
    "plot.subplots_adjust(wspace=1, hspace=1)\n"
   ]
  },
  {
   "cell_type": "markdown",
   "metadata": {},
   "source": [
    "### Question 2 - notes on all models"
   ]
  },
  {
   "cell_type": "markdown",
   "metadata": {},
   "source": [
    "#### Question 2 research notes\n",
    "\n",
    "Choosing the right estimator map - https://scikit-learn.org/stable/tutorial/machine_learning_map/\n",
    "\n",
    "The first project reviewer included another link that would be useful in deciding between models. https://docs.microsoft.com/en-us/azure/machine-learning/algorithm-cheat-sheet"
   ]
  },
  {
   "cell_type": "markdown",
   "metadata": {},
   "source": [
    "##### Gaussian Naive Bayes\n",
    "Reference\n",
    "https://acadgild.com/blog/naive-bayesian-model\n",
    "https://scikit-learn.org/stable/modules/naive_bayes.html\n",
    "        \n",
    "Real World applications\n",
    "* real time prediction \n",
    "* multi-class prediction\n",
    "* text classification/spam filtering/sentiment analysis\n",
    "* recommendation system - predict if a user would like a given resource or not\n",
    "\n",
    "Strengths \n",
    "* easy to apply and predicts the class of test data fast\n",
    "* performs well in multi-class prediction\n",
    "* when assumption of independence between inputs holds, performs better than logistic regression since need less training data\n",
    "* performs well in the case of categorical input variables compared to a numerical variable\n",
    "\n",
    "Weaknesses\n",
    "* assumption of independent inputs is almost never true\n",
    "* known as a bad estimator\n",
    "* for categorial inputs, if not all categories are in the training set, will assign a zero probability and be unable to make a prediction.\n",
    "\n",
    "##### Decision Trees\n",
    "Reference\n",
    "http://csci.viu.ca/~barskym/teaching/DM2012/lectures/Lecture2.DTApplications.pdf\n",
    "PMI training\n",
    "https://towardsdatascience.com/decision-tree-in-machine-learning-e380942a4c96\n",
    "https://scikit-learn.org/stable/modules/tree.html\n",
    "\n",
    "\n",
    "Real World applications\n",
    "* selecting most promising egs for in-vitro fertilization\n",
    "* soybean disease classification\n",
    "* classification for serial criminal patterns\n",
    "* screening potential terrorists and drug smugglers at border crossings\n",
    "* project management risk assessments\n",
    "\n",
    "\n",
    "Strengths\n",
    "* allows the same conclusion to be reached for different reasons\n",
    "* easy to use and understand\n",
    "* can handle both categorical and numerical data\n",
    "* requires less data pre-processing since resistant to outliers\n",
    "\n",
    "Weaknesses\n",
    "* prone to overfitting\n",
    "* can create biased learning trees if one class dominates\n",
    "\n",
    "##### Ensemble Methods (Bagging, AdaBoost, Random Forest, Gradient Boosting)\n",
    "Reference\n",
    "https://www.quora.com/What-is-ensemble-learning-When-can-I-use-ensemble-learning\n",
    "https://en.wikipedia.org/wiki/Ensemble_learning\n",
    "https://scikit-learn.org/stable/modules/ensemble.html\n",
    "\n",
    "Real World Applications\n",
    "* remote sensing\n",
    "* computer security\n",
    "* face recognition\n",
    "\n",
    "Strengths\n",
    "* improved predictive performance from combining multiple techniques\n",
    "\n",
    "Weaknesses\n",
    "* slower to train and tests since more models being used\n",
    "\n",
    "##### K-Nearest Neighbors (KNeighbors)\n",
    "Reference\n",
    "https://en.wikipedia.org/wiki/K-nearest_neighbors_algorithm\n",
    "https://scikit-learn.org/stable/modules/neighbors.html\n",
    "\n",
    "Real World Applications\n",
    "* prediction of handwritten digits\n",
    "* prediction of satellite image schemes\n",
    "\n",
    "Strengths\n",
    "* successful in classification where the decision boundary is very irregular\n",
    "\n",
    "Weaknesses\n",
    "* computationally intensive for large training sets\n",
    "* very sensitive to training data set since it \"memorizes\" the training data\n",
    "\n",
    "##### Stochastic Gradient Descent Classifier (SGDC)\n",
    "Reference\n",
    "https://scikit-learn.org/stable/modules/sgd.html\n",
    "\n",
    "Real World Applications\n",
    "* text classification\n",
    "* natural language processing\n",
    "\n",
    "Strengths\n",
    "* efficiency\n",
    "* ease of implementation\n",
    "\n",
    "Weaknesses\n",
    "* requires a number of hyperparameters \n",
    "* sensitive to feature scaling\n",
    "\n",
    "##### Support Vector Machines (SVM)\n",
    "Reference\n",
    "https://en.wikipedia.org/wiki/Support-vector_machine#Implementation\n",
    "https://scikit-learn.org/stable/modules/svm.html\n",
    "\n",
    "Real World Applications\n",
    "* text and hypertext categorization\n",
    "* image classification\n",
    "* handwriting recongiztion\n",
    "* feature recognition\n",
    "\n",
    "Strengths\n",
    "* effective in high dimensional spaces\n",
    "* effective in cases where the number of dimensions is greater than the number of samples\n",
    "* memory efficient\n",
    "* allows different kernel functions to be specified for the decision function\n",
    "\n",
    "Weaknesses\n",
    "* do not directly provide probability estimates, requires additional computations\n",
    "* when number of features is much greater than number of samples, incorrect kernel and regularization choices can result in over-fitting\n",
    "\n",
    "##### Logistic Regression\n",
    "Reference\n",
    "https://towardsdatascience.com/introduction-to-logistic-regression-66248243c148\n",
    "https://blogs.sas.com/content/subconsciousmusings/2017/04/12/machine-learning-algorithm-use/\n",
    "https://elitedatascience.com/machine-learning-algorithms\n",
    "\n",
    "Real World applications\n",
    "* email spam or not spam\n",
    "* online transaction fraud or not fraud\n",
    "* medical applications - tumor or not\n",
    "\n",
    "Strengths\n",
    "* outputs have nice probabilistic interpretation\n",
    "* algorithm can be regularized to avoid overfitting\n",
    "* can be updated with new data easily using stochastic gradient descent\n",
    "\n",
    "Weakness\n",
    "* does not handle multiple or non-linear decision boundaries very well\n",
    "* not flexible enough to naturally caputre more complex relationships"
   ]
  }
 ],
 "metadata": {
  "kernelspec": {
   "display_name": "Python 3",
   "language": "python",
   "name": "python3"
  },
  "language_info": {
   "codemirror_mode": {
    "name": "ipython",
    "version": 3
   },
   "file_extension": ".py",
   "mimetype": "text/x-python",
   "name": "python",
   "nbconvert_exporter": "python",
   "pygments_lexer": "ipython3",
   "version": "3.6.9"
  }
 },
 "nbformat": 4,
 "nbformat_minor": 1
}
